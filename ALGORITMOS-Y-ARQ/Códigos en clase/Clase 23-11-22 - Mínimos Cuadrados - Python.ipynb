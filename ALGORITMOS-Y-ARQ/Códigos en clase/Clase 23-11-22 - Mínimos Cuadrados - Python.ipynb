{
 "cells": [
  {
   "cell_type": "code",
   "execution_count": 1,
   "id": "8360445d",
   "metadata": {},
   "outputs": [
    {
     "name": "stdout",
     "output_type": "stream",
     "text": [
      "Ingrese el numero de datos: 3\n",
      "Ingrese un valor para X1:1\n",
      "Ingrese un valor para Y1:1\n",
      "Ingrese un valor para X2:2\n",
      "Ingrese un valor para Y2:2\n",
      "Ingrese un valor para X3:3\n",
      "Ingrese un valor para Y3:3\n",
      "Hallar a y b\n"
     ]
    }
   ],
   "source": [
    "x = []\n",
    "y = []\n",
    "n = int(input('Ingrese el numero de datos: '))\n",
    "for i in range(1, n + 1, 1) :\n",
    "    m = float(input('Ingrese un valor para X' + str(i) + \":\"))\n",
    "    x.append(m)\n",
    "    m = float(input('Ingrese un valor para Y' + str(i) + \":\"))\n",
    "    y.append(m)\n",
    "print('Hallar a y b')\n"
   ]
  },
  {
   "cell_type": "code",
   "execution_count": 2,
   "id": "5a016bb8",
   "metadata": {},
   "outputs": [
    {
     "name": "stdout",
     "output_type": "stream",
     "text": [
      "El valor de a es:1.0\n",
      "El valor de b es:0.0\n"
     ]
    }
   ],
   "source": [
    "sumxy = 0\n",
    "sumx = 0\n",
    "sumy = 0\n",
    "sumxexp2 = 0\n",
    "i = 0\n",
    "while i < n:\n",
    "    sumxy = sumxy + (x[i] * y[i])\n",
    "    sumx = sumx + x[i]\n",
    "    sumy = sumy + y[i]\n",
    "    sumxexp2 = sumxexp2 + (x[i] * x[i])\n",
    "    i = i +1\n",
    "a = (n * sumxy - (sumx * sumy)) / (n * sumxexp2 - (sumx * sumx))\n",
    "b = (sumy - (a * sumx)) / n\n",
    "print('El valor de a es:' + str(a))\n",
    "print('El valor de b es:' + str(b))"
   ]
  },
  {
   "cell_type": "code",
   "execution_count": null,
   "id": "c22b1736",
   "metadata": {},
   "outputs": [],
   "source": []
  }
 ],
 "metadata": {
  "kernelspec": {
   "display_name": "Python 3",
   "language": "python",
   "name": "python3"
  },
  "language_info": {
   "codemirror_mode": {
    "name": "ipython",
    "version": 3
   },
   "file_extension": ".py",
   "mimetype": "text/x-python",
   "name": "python",
   "nbconvert_exporter": "python",
   "pygments_lexer": "ipython3",
   "version": "3.8.8"
  }
 },
 "nbformat": 4,
 "nbformat_minor": 5
}
